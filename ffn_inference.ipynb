{
 "cells": [
  {
   "cell_type": "code",
   "execution_count": null,
   "metadata": {},
   "outputs": [],
   "source": [
    "USE_GPU = True\n",
    "GPU_ID = \"3\" # the gpu to use for this job\n",
    "if USE_GPU:\n",
    "    import os\n",
    "    os.environ[\"CUDA_VISIBLE_DEVICES\"] = GPU_ID"
   ]
  },
  {
   "cell_type": "code",
   "execution_count": null,
   "metadata": {},
   "outputs": [],
   "source": [
    "import tensorflow as tf\n",
    "# Suppress tensorflow 1.x deprecation warnings.\n",
    "tf.compat.v1.logging.set_verbosity(tf.compat.v1.logging.ERROR)"
   ]
  },
  {
   "cell_type": "code",
   "execution_count": null,
   "metadata": {},
   "outputs": [],
   "source": [
    "# Initialize logger to view logging output from segmentation tasks\n",
    "import logging\n",
    "logger = logging.getLogger()\n",
    "logger.setLevel(logging.INFO)"
   ]
  },
  {
   "cell_type": "code",
   "execution_count": null,
   "metadata": {},
   "outputs": [],
   "source": [
    "from google.protobuf import text_format\n",
    "from ffn.inference import inference\n",
    "from ffn.inference import inference_pb2"
   ]
  },
  {
   "cell_type": "code",
   "execution_count": null,
   "metadata": {},
   "outputs": [],
   "source": [
    "from fftracer.utils.config import InferenceConfig\n",
    "\n",
    "# To change inference settings, modify the relevant parameters here.\n",
    "\n",
    "inference_config = InferenceConfig(\n",
    "    image=\"data/test/507727402/507727402_raw.h5:raw\", fov_size={\"x\": 135, \"y\": 135, \"z\": 1},\n",
    "    deltas={\"x\": 8, \"y\": 8, \"z\": 0}, depth=9, image_mean=78, image_stddev=20,\n",
    "    model_checkpoint_path=\"training-logs/lr0.001depth9fov135/model.ckpt-3827778\",\n",
    "    model_name=\"fftracer.training.models.model.FFNTracerModel\",\n",
    "    segmentation_output_dir=\"results/mozak\", move_threshold=0.1,\n",
    "    min_boundary_dist={\"x\": 1, \"y\": 1, \"z\": 0}\n",
    ")\n",
    "config = inference_config.to_string()"
   ]
  },
  {
   "cell_type": "code",
   "execution_count": null,
   "metadata": {},
   "outputs": [],
   "source": [
    "req = inference_pb2.InferenceRequest()\n",
    "_ = text_format.Parse(config, req)"
   ]
  },
  {
   "cell_type": "code",
   "execution_count": null,
   "metadata": {},
   "outputs": [],
   "source": [
    "runner = inference.Runner()\n",
    "runner.start(req)\n",
    "canvas, alignment = runner.make_canvas((0, 0, 0), (1, 9429, 7601)) # sizes in (z, y, x)"
   ]
  },
  {
   "cell_type": "code",
   "execution_count": null,
   "metadata": {},
   "outputs": [],
   "source": [
    "# show the input image data to verify it is valid\n",
    "from skimage.io import imshow\n",
    "from matplotlib import pyplot as plt\n",
    "imshow(canvas.image[0,:,:])\n",
    "plt.show()\n"
   ]
  },
  {
   "cell_type": "code",
   "execution_count": null,
   "metadata": {
    "scrolled": false
   },
   "outputs": [],
   "source": [
    "# Create a single segment, starting from the specified origin point.\n",
    "canvas.segment_at(\n",
    "    (0, 4521, 3817),  # seed starting point in (z, y, x)\n",
    "#     (0, 3801, 4338),  # seed starting point in (z, y, x)\n",
    "    dynamic_image=inference.DynamicImage(),\n",
    "    vis_update_every=50,\n",
    "    vis_fixed_z=True\n",
    ")"
   ]
  },
  {
   "cell_type": "code",
   "execution_count": null,
   "metadata": {},
   "outputs": [],
   "source": [
    "from ffn.inference.seed import PolicyPeaks2d\n",
    "canvas.segment_all(seed_policy=PolicyPeaks2d)"
   ]
  },
  {
   "cell_type": "code",
   "execution_count": null,
   "metadata": {},
   "outputs": [],
   "source": [
    "# read the results\n",
    "import numpy as np\n",
    "seg_prob = np.load(\"results/mozak/0/0/seg-0_0_0.prob\")['qprob']\n",
    "print(\"shape: {}\".format(seg_prob.shape))\n",
    "seg_prob"
   ]
  }
 ],
 "metadata": {
  "kernelspec": {
   "display_name": "ffn",
   "language": "python",
   "name": "ffn"
  },
  "language_info": {
   "codemirror_mode": {
    "name": "ipython",
    "version": 3
   },
   "file_extension": ".py",
   "mimetype": "text/x-python",
   "name": "python",
   "nbconvert_exporter": "python",
   "pygments_lexer": "ipython3",
   "version": "3.6.8"
  }
 },
 "nbformat": 4,
 "nbformat_minor": 2
}
