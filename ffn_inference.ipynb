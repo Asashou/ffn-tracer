{
 "cells": [
  {
   "cell_type": "code",
   "execution_count": 1,
   "metadata": {},
   "outputs": [],
   "source": [
    "import tensorflow as tf\n",
    "# Suppress the annoying tensorflow 1.x deprecation warnings; these make console output\n",
    "# impossible to parse.\n",
    "tf.compat.v1.logging.set_verbosity(tf.compat.v1.logging.ERROR)"
   ]
  },
  {
   "cell_type": "code",
   "execution_count": 2,
   "metadata": {},
   "outputs": [
    {
     "name": "stderr",
     "output_type": "stream",
     "text": [
      "DEBUG:root:test\n"
     ]
    }
   ],
   "source": [
    "# initialize logger to view logging output from segmentation tasks\n",
    "import logging\n",
    "logger = logging.getLogger()\n",
    "logger.setLevel(logging.DEBUG)\n",
    "logging.debug(\"test\")"
   ]
  },
  {
   "cell_type": "code",
   "execution_count": 3,
   "metadata": {},
   "outputs": [
    {
     "name": "stderr",
     "output_type": "stream",
     "text": [
      "DEBUG:matplotlib:CACHEDIR=/Users/jpgard/.matplotlib\n",
      "DEBUG:matplotlib.font_manager:Using fontManager instance from /Users/jpgard/.matplotlib/fontlist-v300.json\n"
     ]
    }
   ],
   "source": [
    "from google.protobuf import text_format\n",
    "from ffn.inference import inference\n",
    "from ffn.inference import inference_pb2"
   ]
  },
  {
   "cell_type": "code",
   "execution_count": 4,
   "metadata": {},
   "outputs": [],
   "source": [
    "config = '''image {\n",
    "  hdf5: \"data/test/507727402/507727402_raw.h5:raw\"\n",
    "}\n",
    "image_mean: 78\n",
    "image_stddev: 20\n",
    "checkpoint_interval: 1800\n",
    "seed_policy: \"PolicyPeaks\"\n",
    "model_checkpoint_path: \"training-logs/lr0.001/model.ckpt-1000000\"\n",
    "model_name: \"fftracer.training.models.model.FFNTracerModel\"\n",
    "model_args: \"{\\\\\"depth\\\\\": 9, \\\\\"fov_size\\\\\": [49, 49, 1], \\\\\"deltas\\\\\": [8, 8, 0]}\"\n",
    "segmentation_output_dir: \"results/mozak\"\n",
    "inference_options {\n",
    "  init_activation: 0.95\n",
    "  pad_value: 0.05\n",
    "  move_threshold: 0.9\n",
    "  min_boundary_dist { x: 1 y: 1 z: 0}\n",
    "  segment_threshold: 0.6\n",
    "  min_segment_size: 1000\n",
    "}'''\n",
    "req = inference_pb2.InferenceRequest()\n",
    "_ = text_format.Parse(config, req)"
   ]
  },
  {
   "cell_type": "code",
   "execution_count": null,
   "metadata": {},
   "outputs": [
    {
     "name": "stderr",
     "output_type": "stream",
     "text": [
      "DEBUG:root:Received request:\n",
      "image_mean: 78.0\n",
      "image_stddev: 20.0\n",
      "model_name: \"fftracer.training.models.model.FFNTracerModel\"\n",
      "model_args: \"{\\\"depth\\\": 9, \\\"fov_size\\\": [1, 49, 49], \\\"deltas\\\": [8, 8, 0]}\"\n",
      "model_checkpoint_path: \"training-logs/lr0.001/model.ckpt-1000000\"\n",
      "inference_options {\n",
      "  init_activation: 0.949999988079071\n",
      "  pad_value: 0.05000000074505806\n",
      "  move_threshold: 0.8999999761581421\n",
      "  min_boundary_dist {\n",
      "    x: 1\n",
      "    y: 1\n",
      "    z: 0\n",
      "  }\n",
      "  segment_threshold: 0.6000000238418579\n",
      "  min_segment_size: 1000\n",
      "}\n",
      "segmentation_output_dir: \"results/mozak\"\n",
      "checkpoint_interval: 1800\n",
      "seed_policy: \"PolicyPeaks\"\n",
      "image {\n",
      "  hdf5: \"data/test/507727402/507727402_raw.h5:raw\"\n",
      "}\n",
      "\n",
      "INFO:root:Available TF devices: [_DeviceAttributes(/job:localhost/replica:0/task:0/device:CPU:0, CPU, 268435456, 757763813882681302), _DeviceAttributes(/job:localhost/replica:0/task:0/device:XLA_CPU:0, XLA_CPU, 17179869184, 6549946503828001155)]\n",
      "INFO:root:Importing symbol FFNTracerModel from ffn.training.models.fftracer.training.models.model\n",
      "INFO:root:No module named 'ffn.training.models.fftracer'\n",
      "INFO:root:Importing symbol FFNTracerModel from fftracer.training.models.model\n",
      "INFO:root:Loading checkpoint.\n",
      "INFO:root:Checkpoint loaded.\n",
      "INFO:root:Executor starting.\n",
      "INFO:root:Process subvolume: (0, 0, 0)\n",
      "INFO:root:Requested bounds are (0, 0, 0) + (1, 9429, 7601)\n",
      "INFO:root:Destination bounds are (0, 0, 0) + (1, 9429, 7601)\n",
      "INFO:root:Fetch bounds are array([0, 0, 0]) + array([   1, 9429, 7601])\n",
      "INFO:root:Fetched image of size (1, 9429, 7601) prior to transform\n",
      "INFO:root:Image data loaded, shape: (1, 9429, 7601).\n",
      "INFO:root:Registered as client 0.\n",
      "INFO:root:client 0 starting\n"
     ]
    }
   ],
   "source": [
    "runner = inference.Runner()\n",
    "runner.start(req)\n",
    "canvas, alignment = runner.make_canvas((0, 0, 0), (1, 9429, 7601)) # sizes in (z, y, x)"
   ]
  },
  {
   "cell_type": "code",
   "execution_count": null,
   "metadata": {},
   "outputs": [
    {
     "name": "stderr",
     "output_type": "stream",
     "text": [
      "DEBUG:matplotlib.pyplot:Loaded backend module://ipykernel.pylab.backend_inline version unknown.\n",
      "DEBUG:matplotlib.colorbar:locator: <matplotlib.colorbar._ColorbarAutoLocator object at 0x147f5ac18>\n",
      "DEBUG:matplotlib.colorbar:Using auto colorbar locator on colorbar\n",
      "DEBUG:matplotlib.colorbar:locator: <matplotlib.colorbar._ColorbarAutoLocator object at 0x147f5ac18>\n",
      "DEBUG:matplotlib.colorbar:Setting pcolormesh\n",
      "DEBUG:matplotlib.font_manager:findfont: Matching :family=sans-serif:style=normal:variant=normal:weight=normal:stretch=normal:size=10.0 to DejaVu Sans ('/Library/Frameworks/Python.framework/Versions/3.6/lib/python3.6/site-packages/matplotlib/mpl-data/fonts/ttf/DejaVuSans.ttf') with score of 0.050000.\n",
      "DEBUG:matplotlib.axes._base:update_title_pos\n",
      "DEBUG:matplotlib.axes._base:update_title_pos\n"
     ]
    },
    {
     "data": {
      "text/plain": [
       "<Figure size 640x480 with 2 Axes>"
      ]
     },
     "metadata": {},
     "output_type": "display_data"
    },
    {
     "name": "stderr",
     "output_type": "stream",
     "text": [
      "DEBUG:matplotlib.pyplot:Loaded backend module://ipykernel.pylab.backend_inline version unknown.\n"
     ]
    }
   ],
   "source": [
    "### EXPERIMENTAL: show the input image data to verify it is valid\n",
    "import skimage\n",
    "from matplotlib import pyplot as plt\n",
    "skimage.io.imshow(canvas.image[0,:,:])\n",
    "plt.show()\n",
    "### END"
   ]
  },
  {
   "cell_type": "code",
   "execution_count": null,
   "metadata": {},
   "outputs": [
    {
     "name": "stdout",
     "output_type": "stream",
     "text": [
      "[JG] segmenting at start_pos (0, 4521, 3817)\n",
      "[JG] NO self.movement_policy\n",
      "> \u001b[0;32m/Users/jpgard/Documents/github/ffn/ffn/inference/inference.py\u001b[0m(523)\u001b[0;36msegment_at\u001b[0;34m()\u001b[0m\n",
      "\u001b[0;32m    522 \u001b[0;31m      \u001b[0;32mimport\u001b[0m \u001b[0mipdb\u001b[0m\u001b[0;34m;\u001b[0m\u001b[0mipdb\u001b[0m\u001b[0;34m.\u001b[0m\u001b[0mset_trace\u001b[0m\u001b[0;34m(\u001b[0m\u001b[0;34m)\u001b[0m\u001b[0;34m\u001b[0m\u001b[0;34m\u001b[0m\u001b[0m\n",
      "\u001b[0m\u001b[0;32m--> 523 \u001b[0;31m      \u001b[0;32massert\u001b[0m \u001b[0mlen\u001b[0m\u001b[0;34m(\u001b[0m\u001b[0mself\u001b[0m\u001b[0;34m.\u001b[0m\u001b[0mmovement_policy\u001b[0m\u001b[0;34m)\u001b[0m \u001b[0;34m>\u001b[0m \u001b[0;36m0\u001b[0m\u001b[0;34m\u001b[0m\u001b[0;34m\u001b[0m\u001b[0m\n",
      "\u001b[0m\u001b[0;32m    524 \u001b[0;31m\u001b[0;34m\u001b[0m\u001b[0m\n",
      "\u001b[0m\n",
      "ipdb> c\n"
     ]
    },
    {
     "name": "stderr",
     "output_type": "stream",
     "text": [
      "DEBUG:root:.. too close to border: (0, 4521, 3817)\n"
     ]
    },
    {
     "name": "stdout",
     "output_type": "stream",
     "text": [
      "[JG] movement_policy: <ffn.inference.movement.FaceMaxMovementPolicy object at 0x115de2b00>\n",
      "> \u001b[0;32m/Users/jpgard/Documents/github/ffn/ffn/inference/inference.py\u001b[0m(356)\u001b[0;36mis_valid_pos\u001b[0;34m()\u001b[0m\n",
      "\u001b[0;32m    355 \u001b[0;31m      \u001b[0;32mimport\u001b[0m \u001b[0mipdb\u001b[0m\u001b[0;34m;\u001b[0m\u001b[0mipdb\u001b[0m\u001b[0;34m.\u001b[0m\u001b[0mset_trace\u001b[0m\u001b[0;34m(\u001b[0m\u001b[0;34m)\u001b[0m\u001b[0;34m\u001b[0m\u001b[0;34m\u001b[0m\u001b[0m\n",
      "\u001b[0m\u001b[0;32m--> 356 \u001b[0;31m      \u001b[0;32mreturn\u001b[0m \u001b[0;32mFalse\u001b[0m\u001b[0;34m\u001b[0m\u001b[0;34m\u001b[0m\u001b[0m\n",
      "\u001b[0m\u001b[0;32m    357 \u001b[0;31m\u001b[0;34m\u001b[0m\u001b[0m\n",
      "\u001b[0m\n",
      "ipdb> np.any(low < 0)\n",
      "True\n",
      "ipdb> low\n",
      "array([ -24, 4497, 3817])\n",
      "ipdb> self.margin\n",
      "array([24, 24,  0])\n"
     ]
    }
   ],
   "source": [
    "# Create a single segment, starting from the specified origin point.\n",
    "canvas.segment_at(\n",
    "    (0, 4521, 3817),  # seed starting point in (z, y, x)\n",
    "    dynamic_image=inference.DynamicImage(),\n",
    "    vis_update_every=1,\n",
    "    vis_fixed_z=True\n",
    ")"
   ]
  },
  {
   "cell_type": "code",
   "execution_count": null,
   "metadata": {},
   "outputs": [],
   "source": []
  },
  {
   "cell_type": "code",
   "execution_count": null,
   "metadata": {},
   "outputs": [],
   "source": [
    "# read the results\n",
    "import numpy as np\n",
    "seg_prob = np.load(\"results/mozak/0/0/seg-0_0_0.prob\")['qprob']\n",
    "print(\"shape: {}\".format(seg_prob.shape))\n",
    "seg_prob"
   ]
  },
  {
   "cell_type": "code",
   "execution_count": null,
   "metadata": {},
   "outputs": [],
   "source": []
  }
 ],
 "metadata": {
  "kernelspec": {
   "display_name": "ffn",
   "language": "python",
   "name": "ffn"
  },
  "language_info": {
   "codemirror_mode": {
    "name": "ipython",
    "version": 3
   },
   "file_extension": ".py",
   "mimetype": "text/x-python",
   "name": "python",
   "nbconvert_exporter": "python",
   "pygments_lexer": "ipython3",
   "version": "3.6.7"
  }
 },
 "nbformat": 4,
 "nbformat_minor": 2
}
