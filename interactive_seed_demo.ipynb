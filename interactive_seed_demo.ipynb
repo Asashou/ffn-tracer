{
 "cells": [
  {
   "cell_type": "code",
   "execution_count": null,
   "metadata": {},
   "outputs": [],
   "source": []
  },
  {
   "cell_type": "code",
   "execution_count": 7,
   "metadata": {},
   "outputs": [
    {
     "name": "stdout",
     "output_type": "stream",
     "text": [
      "[INFO] recorded seed location z:    0 y: 4494 x: 3821\n",
      "[INFO] recorded seed location z:    0 y: 4227 x: 3986\n",
      "[INFO] recorded seed location z:    0 y: 4008 x: 4192\n",
      "[INFO] recorded seed location z:    0 y: 3750 x: 4425\n",
      "[INFO] recorded seed location z:    0 y: 3428 x: 4669\n",
      "[INFO] recorded seed location z:    0 y: 2938 x: 5095\n",
      "[INFO] recorded seed location z:    0 y: 1546 x: 6229\n"
     ]
    }
   ],
   "source": [
    "%matplotlib tk\n",
    "import matplotlib.pyplot as plt\n",
    "import matplotlib.image as mpimg\n",
    "\n",
    "fig = plt.figure(figsize=(7.5,9.5))\n",
    "\n",
    "img=mpimg.imread(\"data/img/507727402.png\")\n",
    "\n",
    "seeds = list()\n",
    "\n",
    "def onclick(event):\n",
    "    seed_zyx = (0, event.ydata, event.xdata,)\n",
    "    print(\"[INFO] recorded seed location z: %4d y: %4d x: %4d\" % seed_zyx)\n",
    "    seeds.append(seed_zyx)\n",
    "    \n",
    "\n",
    "cid = fig.canvas.mpl_connect('button_press_event', onclick)\n",
    "\n",
    "imgplot = plt.imshow(img)\n",
    "plt.show()"
   ]
  },
  {
   "cell_type": "code",
   "execution_count": null,
   "metadata": {},
   "outputs": [],
   "source": []
  }
 ],
 "metadata": {
  "kernelspec": {
   "display_name": "ffn",
   "language": "python",
   "name": "ffn"
  },
  "language_info": {
   "codemirror_mode": {
    "name": "ipython",
    "version": 3
   },
   "file_extension": ".py",
   "mimetype": "text/x-python",
   "name": "python",
   "nbconvert_exporter": "python",
   "pygments_lexer": "ipython3",
   "version": "3.6.7"
  }
 },
 "nbformat": 4,
 "nbformat_minor": 2
}
